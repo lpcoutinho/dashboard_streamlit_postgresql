{
 "cells": [
  {
   "cell_type": "code",
   "execution_count": 2,
   "metadata": {},
   "outputs": [],
   "source": [
    "import pandas as pd"
   ]
  },
  {
   "cell_type": "code",
   "execution_count": 3,
   "metadata": {},
   "outputs": [],
   "source": [
    "df = pd.read_csv('../resources/data/insurance.csv')"
   ]
  },
  {
   "cell_type": "code",
   "execution_count": 4,
   "metadata": {},
   "outputs": [
    {
     "data": {
      "text/plain": [
       "Index(['Policy', 'Expiry', 'Location', 'State', 'Region', 'Investment',\n",
       "       'Construction', 'BusinessType', 'Earthquake', 'Flood', 'Rating'],\n",
       "      dtype='object')"
      ]
     },
     "execution_count": 4,
     "metadata": {},
     "output_type": "execute_result"
    }
   ],
   "source": [
    "df.columns"
   ]
  },
  {
   "cell_type": "code",
   "execution_count": 5,
   "metadata": {},
   "outputs": [
    {
     "name": "stdout",
     "output_type": "stream",
     "text": [
      "<class 'pandas.core.frame.DataFrame'>\n",
      "RangeIndex: 500 entries, 0 to 499\n",
      "Data columns (total 11 columns):\n",
      " #   Column        Non-Null Count  Dtype  \n",
      "---  ------        --------------  -----  \n",
      " 0   Policy        500 non-null    int64  \n",
      " 1   Expiry        500 non-null    object \n",
      " 2   Location      500 non-null    object \n",
      " 3   State         500 non-null    object \n",
      " 4   Region        500 non-null    object \n",
      " 5   Investment    500 non-null    int64  \n",
      " 6   Construction  500 non-null    object \n",
      " 7   BusinessType  500 non-null    object \n",
      " 8   Earthquake    500 non-null    object \n",
      " 9   Flood         500 non-null    object \n",
      " 10  Rating        500 non-null    float64\n",
      "dtypes: float64(1), int64(2), object(8)\n",
      "memory usage: 43.1+ KB\n"
     ]
    }
   ],
   "source": [
    "df.info()"
   ]
  },
  {
   "cell_type": "code",
   "execution_count": 6,
   "metadata": {},
   "outputs": [],
   "source": [
    "df['Expiry'] = pd.to_datetime(df['Expiry'], format='%d-%b-%y')"
   ]
  },
  {
   "cell_type": "code",
   "execution_count": 8,
   "metadata": {},
   "outputs": [
    {
     "name": "stdout",
     "output_type": "stream",
     "text": [
      "<class 'pandas.core.frame.DataFrame'>\n",
      "RangeIndex: 500 entries, 0 to 499\n",
      "Data columns (total 11 columns):\n",
      " #   Column        Non-Null Count  Dtype         \n",
      "---  ------        --------------  -----         \n",
      " 0   Policy        500 non-null    int64         \n",
      " 1   Expiry        500 non-null    datetime64[ns]\n",
      " 2   Location      500 non-null    object        \n",
      " 3   State         500 non-null    object        \n",
      " 4   Region        500 non-null    object        \n",
      " 5   Investment    500 non-null    int64         \n",
      " 6   Construction  500 non-null    object        \n",
      " 7   BusinessType  500 non-null    object        \n",
      " 8   Earthquake    500 non-null    object        \n",
      " 9   Flood         500 non-null    object        \n",
      " 10  Rating        500 non-null    float64       \n",
      "dtypes: datetime64[ns](1), float64(1), int64(2), object(7)\n",
      "memory usage: 43.1+ KB\n"
     ]
    }
   ],
   "source": [
    "df.info()"
   ]
  },
  {
   "cell_type": "code",
   "execution_count": null,
   "metadata": {},
   "outputs": [],
   "source": []
  }
 ],
 "metadata": {
  "kernelspec": {
   "display_name": "venv",
   "language": "python",
   "name": "python3"
  },
  "language_info": {
   "codemirror_mode": {
    "name": "ipython",
    "version": 3
   },
   "file_extension": ".py",
   "mimetype": "text/x-python",
   "name": "python",
   "nbconvert_exporter": "python",
   "pygments_lexer": "ipython3",
   "version": "3.10.12"
  }
 },
 "nbformat": 4,
 "nbformat_minor": 2
}
